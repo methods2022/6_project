{
 "cells": [
  {
   "cell_type": "code",
   "execution_count": 1,
   "id": "d9122b81",
   "metadata": {},
   "outputs": [
    {
     "name": "stderr",
     "output_type": "stream",
     "text": [
      "[nltk_data] Downloading package vader_lexicon to\n",
      "[nltk_data]     /Users/ashelly/nltk_data...\n"
     ]
    }
   ],
   "source": [
    "import nltk\n",
    "nltk.download(\"vader_lexicon\")\n",
    "from nltk.sentiment.vader import SentimentIntensityAnalyzer\n",
    "sentiment = SentimentIntensityAnalyzer()"
   ]
  },
  {
   "cell_type": "code",
   "execution_count": 32,
   "id": "26559826",
   "metadata": {},
   "outputs": [
    {
     "ename": "SyntaxError",
     "evalue": "(unicode error) 'unicodeescape' codec can't decode bytes in position 0-1: truncated \\UXXXXXXXX escape (4050285908.py, line 1)",
     "output_type": "error",
     "traceback": [
      "\u001b[0;36m  File \u001b[0;32m\"/var/folders/mw/drmp7tzs0_g6wd1s43v1bn1m0000gn/T/ipykernel_4287/4050285908.py\"\u001b[0;36m, line \u001b[0;32m1\u001b[0m\n\u001b[0;31m    with open(\"\\Users\\ashelly\\\\Desktop\\\\data\\\\zoloft.csv\", 'rb') as csvfile:\u001b[0m\n\u001b[0m                                                         ^\u001b[0m\n\u001b[0;31mSyntaxError\u001b[0m\u001b[0;31m:\u001b[0m (unicode error) 'unicodeescape' codec can't decode bytes in position 0-1: truncated \\UXXXXXXXX escape\n"
     ]
    }
   ],
   "source": [
    "##you need to call all five categories of the drugs, following the same logic\n",
    "with open(\"\\Users\\ashelly\\Desktop\\data\\zoloft.csv\", 'rb') as csvfile:\n",
    "\n",
    "    reader = csv.reader(csvfile)\n",
    "    column = [row[2] for row in reader]\n",
    "\n",
    "# remove the first element in column\n",
    "str_list = column[1:]\n",
    "size = len(str_list)\n",
    "\n",
    "\n",
    "sum_neg = 0.0\n",
    "sum_neu = 0.0\n",
    "sum_pos = 0.0\n",
    "sum_compound = 0.0\n",
    "\n",
    "# compute the average of the values in 100 dictionaries\n",
    "\n",
    "\n",
    "for i in range(size):\n",
    "    str = str_list[i]\n",
    "    sum_neg += sentiment.polarity_scores(str)[\"neg\"]\n",
    "    sum_neu += sentiment.polarity_scores(str)[\"neu\"]\n",
    "    sum_pos += sentiment.polarity_scores(str)[\"pos\"]\n",
    "    sum_compound += sentiment.polarity_scores(str)[\"compound\"]"
   ]
  },
  {
   "cell_type": "code",
   "execution_count": 5,
   "id": "2a006fa7",
   "metadata": {},
   "outputs": [
    {
     "name": "stdout",
     "output_type": "stream",
     "text": [
      "2.027 0.0 0.973 1.0123\n"
     ]
    }
   ],
   "source": [
    "#print out the result\n",
    "print(sum_neu,sum_neg,sum_pos,sum_compound)"
   ]
  },
  {
   "cell_type": "code",
   "execution_count": null,
   "id": "488f8412",
   "metadata": {},
   "outputs": [],
   "source": []
  }
 ],
 "metadata": {
  "kernelspec": {
   "display_name": "Python 3 (ipykernel)",
   "language": "python",
   "name": "python3"
  },
  "language_info": {
   "codemirror_mode": {
    "name": "ipython",
    "version": 3
   },
   "file_extension": ".py",
   "mimetype": "text/x-python",
   "name": "python",
   "nbconvert_exporter": "python",
   "pygments_lexer": "ipython3",
   "version": "3.9.7"
  }
 },
 "nbformat": 4,
 "nbformat_minor": 5
}
